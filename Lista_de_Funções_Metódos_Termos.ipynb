{
  "nbformat": 4,
  "nbformat_minor": 0,
  "metadata": {
    "colab": {
      "provenance": [],
      "authorship_tag": "ABX9TyO0k68jhKcimBxsk1CgtNhu",
      "include_colab_link": true
    },
    "kernelspec": {
      "name": "python3",
      "display_name": "Python 3"
    },
    "language_info": {
      "name": "python"
    }
  },
  "cells": [
    {
      "cell_type": "markdown",
      "metadata": {
        "id": "view-in-github",
        "colab_type": "text"
      },
      "source": [
        "<a href=\"https://colab.research.google.com/github/leticia-natalino/public-repository/blob/main/Lista_de_Fun%C3%A7%C3%B5es_Met%C3%B3dos_Termos.ipynb\" target=\"_parent\"><img src=\"https://colab.research.google.com/assets/colab-badge.svg\" alt=\"Open In Colab\"/></a>"
      ]
    },
    {
      "cell_type": "code",
      "execution_count": null,
      "metadata": {
        "id": "rOMdgmxOvUvB"
      },
      "outputs": [],
      "source": [
        "len(t1) # qtd de termos\n",
        "\n",
        "# ordenar\n",
        "  sorted(t1)                # ordena os valores da lista sem manter eles salvos\n",
        "  .sort()                   # ordena os valores da lista fazendo com que a lista fique com os valores salvos nessa nova posição\n",
        "  .sort(reverse = True)  # ordena em forma reversa\n",
        "\n",
        "t1.count(valor) # contar a qtd de “valor”\n",
        "\n",
        "t1.index(valor) # achar a 1ª posição de “valor”\n",
        "\n",
        "t1.index(valor,pos) # achar “valor” a partir da “pos”\n",
        "\n",
        "t1 + t2 # concatenar tuplas\n",
        "\n",
        "# adicionar termos\n",
        "  l1.append( posicao, valor )          # sem posição só adiciona o valor a lista\n",
        "  l1.insert()                      # adciona em certa posição, deslocando o valor que estava na posição para a posição seguinte\n",
        "\n",
        "# deletar termos\n",
        "  del l1[posicao]                  # deleta o termo da posição e puxa todos os termos seguintes para trás\n",
        "  var = l1.pop(posicao)            # além de deletar, salva o valor deletado em uma variável\n",
        "  .remove(valor)                   # deleta o valor da lista\n",
        "\n",
        "# limpar a memória da variável\n",
        "  lista.clear()"
      ]
    }
  ]
}